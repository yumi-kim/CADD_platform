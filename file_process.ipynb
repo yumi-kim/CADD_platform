{
 "cells": [
  {
   "cell_type": "code",
   "execution_count": 1,
   "metadata": {},
   "outputs": [],
   "source": [
    "import pandas as pd\n",
    "\n",
    "file_dir = \"kcb_sdf_data/\"\n",
    "#file_name = \"KCB_1_8000.sdf\"\n",
    "\n",
    "KCB_data_list = ['KCB_1_8000.sdf','KCB_4_32000.sdf','KCB_5_40000.sdf','KCB_6_48000.sdf',\n",
    "                 'KCB_7_56000.sdf','KCB_8_64000.sdf','KCB_9_72000.sdf','KCB_10_80000.sdf',\n",
    "                 'KCB_11_88000.sdf','KCB_12_96000.sdf','KCB_14_112000.sdf','KCB_15_120000.sdf',\n",
    "                 'KCB_17_136000.sdf','KCB_20_157694.sdf']\n",
    "\n",
    "output_dir = \"result/\"\n",
    "output_file_name = \"targetCompound.sdf\"\n",
    "final_output_file_name = \"FinalResultTargetCompound.sdf\"\n",
    "\n",
    "seperator_Tag = \"$$$$\\n\"\n",
    "compound_block_num = 0\n",
    "compound_block = []\n",
    "\n",
    "final_result = \"\""
   ]
  },
  {
   "cell_type": "code",
   "execution_count": 2,
   "metadata": {},
   "outputs": [],
   "source": [
    "def convert_to_numeric(corp_id_str):\n",
    "    return int(corp_id_str.replace(\",\",\"\"))"
   ]
  },
  {
   "cell_type": "code",
   "execution_count": 3,
   "metadata": {},
   "outputs": [],
   "source": [
    "import locale\n",
    "\n",
    "def setLocale(corp_id_num):\n",
    "    locale.setlocale(locale.LC_ALL, 'en_US.utf8')\n",
    "    return locale.format(\"%d\", corp_id_num, grouping=True)\n",
    "    "
   ]
  },
  {
   "cell_type": "code",
   "execution_count": 4,
   "metadata": {},
   "outputs": [],
   "source": [
    "screening_data_path = \"screening_result_files/\"\n",
    "\n",
    "def getCorp_ids(filename):\n",
    "    data_df = pd.read_csv(screening_data_path+filename)\n",
    "    corp_ids = data_df[\"corp_id\"].apply(convert_to_numeric)\n",
    "    return corp_ids\n",
    "\n",
    "target_corp_ids = getCorp_ids(\"screening_result.csv\")"
   ]
  },
  {
   "cell_type": "code",
   "execution_count": 5,
   "metadata": {},
   "outputs": [],
   "source": [
    "target_corp_ids = target_corp_ids.sort_values(ascending=True)"
   ]
  },
  {
   "cell_type": "code",
   "execution_count": 6,
   "metadata": {},
   "outputs": [
    {
     "data": {
      "text/plain": [
       "139"
      ]
     },
     "execution_count": 6,
     "metadata": {},
     "output_type": "execute_result"
    }
   ],
   "source": [
    "len(target_corp_ids)"
   ]
  },
  {
   "cell_type": "code",
   "execution_count": 7,
   "metadata": {},
   "outputs": [],
   "source": [
    "def getCompoundBlockList(infile):\n",
    "\n",
    "    compound_block_list = []\n",
    "    \n",
    "    for line in infile: \n",
    "        compound_block_list.append(line)\n",
    "        if(\"<corp_id>\" in line):\n",
    "            corp_id = infile.readline()\n",
    "            compound_block_list.append(corp_id)\n",
    "        if(seperator_Tag in line):\n",
    "            compound_block_list.append(corp_id)\n",
    "    return compound_block_list\n",
    "    \n",
    "    \n",
    "#infile.close()  "
   ]
  },
  {
   "cell_type": "code",
   "execution_count": 8,
   "metadata": {},
   "outputs": [],
   "source": [
    "def getCompoundBlocks(compoundBlockList):\n",
    "    indexes = [index for index in range(len(compoundBlockList)) if compoundBlockList[index] == seperator_Tag]\n",
    "    \n",
    "    compound_block_num = compoundBlockList.count(seperator_Tag)\n",
    "    #print(indexes,compound_block_num)\n",
    "    \n",
    "    compoundBlocks = []\n",
    "    for i in range(compound_block_num):\n",
    "        if(i ==0):\n",
    "            compoundBlock = compoundBlockList[i : indexes[i]+2]\n",
    "        elif( i < compound_block_num-1):\n",
    "            compoundBlock = compoundBlockList[indexes[i-1]+2 :indexes[i]+2 ]\n",
    "        else:\n",
    "            compoundBlock = compoundBlockList[indexes[i-1]+2:]\n",
    "        compoundBlocks.append(compoundBlock)\n",
    "    return compoundBlocks"
   ]
  },
  {
   "cell_type": "code",
   "execution_count": 9,
   "metadata": {},
   "outputs": [],
   "source": [
    "def getTargetFile(corp_id):\n",
    "    if(corp_id <= 12374 ):\n",
    "        return 0\n",
    "    elif(corp_id <= 44965 ):\n",
    "        return 1\n",
    "    elif(corp_id <= 52990 ):\n",
    "        return 2\n",
    "    elif(corp_id <= 64266 ):\n",
    "        return 3\n",
    "    elif(corp_id <= 72327 ):\n",
    "        return 4\n",
    "    elif(corp_id <= 88575 ):\n",
    "        return 5\n",
    "    elif(corp_id <= 102998 ):\n",
    "        return 6\n",
    "    elif(corp_id <= 111557 ):\n",
    "        return 7\n",
    "    elif(corp_id <= 130299 ):\n",
    "        return 8\n",
    "    elif(corp_id <= 140394 ):\n",
    "        return 9\n",
    "    elif(corp_id <= 183820 ):\n",
    "        return 10\n",
    "    elif(corp_id <= 197181 ):\n",
    "        return 11\n",
    "    elif(corp_id <= 223442 ):\n",
    "        return 12\n",
    "    else:\n",
    "        return 13"
   ]
  },
  {
   "cell_type": "code",
   "execution_count": 38,
   "metadata": {},
   "outputs": [],
   "source": [
    "'''def getTargetCompounds(block_list,target_corp_ids):\n",
    "    targetCompounds = []\n",
    "    for i in range(len(block_list)):\n",
    "        for idx in range(len(target_corp_ids)):\n",
    "            print(block_list[i][-1],target_corp_ids[idx])\n",
    "            if(int(block_list[i][-1]) == target_corp_ids[idx] ):\n",
    "                targetCompounds.append(block_list[i])\n",
    "    return targetCompounds'''"
   ]
  },
  {
   "cell_type": "code",
   "execution_count": 10,
   "metadata": {},
   "outputs": [],
   "source": [
    "def getTargetCompound(block_list,target_corp_id):\n",
    "    for i in range(len(block_list)):\n",
    "        #print(block_list[1])\n",
    "        #print(block_list[i][-1],target_corp_id)\n",
    "        if(int(block_list[i][-1]) == target_corp_id):\n",
    "            #print(block_list[i][-1],target_corp_id)\n",
    "            #print(block_list[i][-1])\n",
    "            return block_list[i][:-1]"
   ]
  },
  {
   "cell_type": "code",
   "execution_count": 24,
   "metadata": {},
   "outputs": [
    {
     "name": "stdout",
     "output_type": "stream",
     "text": [
      "KCB_1_8000.sdf\n",
      "489618\n",
      "8000\n"
     ]
    }
   ],
   "source": [
    "# Test 12336\n",
    "'''target_corp_id = 12336\n",
    "target_file_idx = getTargetFile(target_corp_id)\n",
    "print(KCB_data_list[target_file_idx])\n",
    "infile = open(file_dir+KCB_data_list[target_file_idx])\n",
    "all_compounds_list = getCompoundBlockList(infile)\n",
    "print(len(all_compounds_list))\n",
    "block_list = getCompoundBlocks(all_compounds_list)\n",
    "print(len(block_list))\n",
    "targetCompound = getTargetCompound(block_list,target_corp_id)\n",
    "#targetCompound = getTargetCompound(block_list,setLocale(target_corp_id))'''"
   ]
  },
  {
   "cell_type": "code",
   "execution_count": 11,
   "metadata": {},
   "outputs": [],
   "source": [
    "def generateSDF_from_list(targetCompounds, idx):\n",
    "    \n",
    "    with open(output_dir+idx+\"_\"+output_file_name, 'w') as f:\n",
    "        out_data = \"\"\n",
    "        for item in targetCompounds:\n",
    "            last_item = item[-1]\n",
    "            second_tag = True\n",
    "            for sub_item in item:\n",
    "                if last_item != sub_item:\n",
    "                    f.write(str(sub_item))\n",
    "                if last_item == sub_item and second_tag:\n",
    "                    f.write(str(sub_item))\n",
    "                    #print(str(sub_item))\n",
    "                    second_tag = False\n",
    "                    #print(\"second Tag : \",second_tag)"
   ]
  },
  {
   "cell_type": "code",
   "execution_count": 12,
   "metadata": {},
   "outputs": [
    {
     "name": "stderr",
     "output_type": "stream",
     "text": [
      "100%|██████████| 139/139 [00:53<00:00,  2.60it/s]\n"
     ]
    }
   ],
   "source": [
    "from tqdm import tqdm\n",
    "\n",
    "for idx in tqdm(range(len(target_corp_ids))):\n",
    "    target_file_idx = getTargetFile(target_corp_ids[idx])\n",
    "    #print(KCB_data_list[target_file_idx])\n",
    "    infile = open(file_dir+KCB_data_list[target_file_idx])\n",
    "    all_compounds_list = getCompoundBlockList(infile)\n",
    "    #print(len(all_compounds_list))\n",
    "    block_list = getCompoundBlocks(all_compounds_list)\n",
    "    #print(len(block_list))\n",
    "    targetCompound = getTargetCompound(block_list,target_corp_ids[idx])\n",
    "    generateSDF_from_list(targetCompound, str(idx))\n",
    "    \n",
    "    with open(output_dir+str(idx)+\"_\"+output_file_name) as fp: \n",
    "        data = fp.read() \n",
    "        final_result += data\n",
    "\n",
    "with open (output_dir+final_output_file_name, 'w') as fp: \n",
    "    fp.write(final_result) "
   ]
  },
  {
   "cell_type": "code",
   "execution_count": 28,
   "metadata": {},
   "outputs": [
    {
     "data": {
      "text/plain": [
       "['Molecule\\n',\n",
       " '  DSViewer          3D                             0\\n',\n",
       " '\\n',\n",
       " ' 73 77  0  0  0  0  0  0  0  0999 V2000\\n',\n",
       " '   -3.2660   -7.1561   -0.0066 C   0  0\\n',\n",
       " '   -4.6574   -6.6001   -0.0018 N   0  0\\n',\n",
       " '   -5.5505   -7.5262   -0.0042 C   0  0\\n',\n",
       " '   -4.8029   -9.0100   -0.0118 S   0  0\\n',\n",
       " '   -3.2099   -8.4957   -0.0125 C   0  0\\n',\n",
       " '   -2.0387   -6.2841   -0.0036 C   0  0\\n',\n",
       " '    7.9753   -5.7950    0.0547 N   0  0\\n',\n",
       " '    3.0217   -5.8473    0.0084 C   0  0\\n',\n",
       " '    8.1018   -4.5254    0.1157 C   0  0\\n',\n",
       " '   18.3933   -0.3918    0.1981 C   0  0\\n',\n",
       " '    4.2599   -6.4144    0.0014 N   0  0\\n',\n",
       " '    9.4758   -3.8848    0.1449 C   0  0\\n',\n",
       " '   -7.0229   -7.3203   -0.0013 C   0  0\\n',\n",
       " '   12.0388   -2.6405    0.1647 C   0  0\\n',\n",
       " '    1.7583   -6.7573   -0.0258 C   0  0\\n',\n",
       " '   -2.1744   -5.0581    0.0064 O   0  0\\n',\n",
       " '   13.4102   -1.9242    0.1343 C   0  0\\n',\n",
       " '    2.8814   -4.6202    0.0472 O   0  0\\n',\n",
       " '   18.3899   -1.4928    0.7583 O   0  0\\n',\n",
       " '   -0.7920   -6.8137   -0.0098 N   0  0\\n',\n",
       " '   10.5900   -4.6257    0.0971 C   0  0\\n',\n",
       " '    9.6016   -2.4211    0.2157 C   0  0\\n',\n",
       " '   10.8044   -1.8373    0.2268 C   0  0\\n',\n",
       " '   11.9382   -3.9722    0.1038 C   0  0\\n',\n",
       " '    6.8849   -3.6820    0.1449 C   0  0\\n',\n",
       " '    6.6852   -6.4238    0.0173 C   0  0\\n',\n",
       " '   13.2442   -0.4905   -0.4077 C   0  0\\n',\n",
       " '   14.4914   -2.7308   -0.6487 C   0  0\\n',\n",
       " '    5.5524   -5.7100    0.0397 C   0  0\\n',\n",
       " '   17.1028    0.2717   -0.2310 C   0  0\\n',\n",
       " '    0.4059   -5.9324   -0.0013 C   0  0\\n',\n",
       " '   19.6047    0.2675   -0.0201 O   0  0\\n',\n",
       " '    5.6709   -4.2451    0.1077 C   0  0\\n',\n",
       " '   15.8130   -0.5844    0.0122 C   0  0\\n',\n",
       " '   15.8334   -1.9082   -0.8125 C   0  0\\n',\n",
       " '   14.6087    0.2643   -0.4874 C   0  0\\n',\n",
       " '   -7.5372   -6.0911    0.0026 C   0  0\\n',\n",
       " '   -7.9255   -8.4848   -0.0032 C   0  0\\n',\n",
       " '   -9.2482   -8.3108   -0.0010 C   0  0\\n',\n",
       " '   -8.9982   -5.9016    0.0049 C   0  0\\n',\n",
       " '   -9.8105   -6.9582    0.0032 C   0  0\\n',\n",
       " '   -2.3155   -9.1187   -0.0168 H   0  0\\n',\n",
       " '    4.2974   -7.4831   -0.0359 H   0  0\\n',\n",
       " '    1.7847   -7.3553   -0.9366 H   0  0\\n',\n",
       " '    1.7801   -7.4157    0.8426 H   0  0\\n',\n",
       " '   13.7536   -1.8413    1.1654 H   0  0\\n',\n",
       " '   -0.6679   -7.8764   -0.0208 H   0  0\\n',\n",
       " '   10.5157   -5.7123    0.0529 H   0  0\\n',\n",
       " '    8.7036   -1.8049    0.2596 H   0  0\\n',\n",
       " '   10.8732   -0.7509    0.2825 H   0  0\\n',\n",
       " '   12.8392   -4.5840    0.0588 H   0  0\\n',\n",
       " '    6.9781   -2.5972    0.1970 H   0  0\\n',\n",
       " '    6.6262   -7.5111   -0.0306 H   0  0\\n',\n",
       " '   12.8102   -0.5397   -1.4064 H   0  0\\n',\n",
       " '   12.5751    0.0605    0.2531 H   0  0\\n',\n",
       " '   14.7061   -3.6517   -0.1064 H   0  0\\n',\n",
       " '   14.1032   -2.9732   -1.6379 H   0  0\\n',\n",
       " '   17.0003    1.2046    0.3234 H   0  0\\n',\n",
       " '   17.1706    0.4877   -1.2973 H   0  0\\n',\n",
       " '    0.3847   -5.3207    0.9006 H   0  0\\n',\n",
       " '    0.3727   -5.2874   -0.8793 H   0  0\\n',\n",
       " '   19.7296    0.4399   -1.0484 H   0  0\\n',\n",
       " '    4.7764   -3.6226    0.1276 H   0  0\\n',\n",
       " '   15.7028   -0.8047    1.0740 H   0  0\\n',\n",
       " '   15.9697   -1.6641   -1.8660 H   0  0\\n',\n",
       " '   16.6663   -2.5226   -0.4707 H   0  0\\n',\n",
       " '   14.7894    0.5431   -1.5256 H   0  0\\n',\n",
       " '   14.5423    1.1639    0.1246 H   0  0\\n',\n",
       " '   -6.8760   -5.2246    0.0040 H   0  0\\n',\n",
       " '   -7.5108   -9.4928   -0.0063 H   0  0\\n',\n",
       " '   -9.9111   -9.1760   -0.0023 H   0  0\\n',\n",
       " '   -9.4158   -4.8948    0.0081 H   0  0\\n',\n",
       " '  -10.8912   -6.8161    0.0050 H   0  0\\n',\n",
       " '  2  1  1  0  0  0\\n',\n",
       " '  3  2  2  0  0  0\\n',\n",
       " '  4  5  1  0  0  0\\n',\n",
       " '  5  1  2  0  0  0\\n',\n",
       " '  6  1  1  0  0  0\\n',\n",
       " '  7 26  1  0  0  0\\n',\n",
       " '  8 15  1  0  0  0\\n',\n",
       " '  9 25  1  0  0  0\\n',\n",
       " ' 10 30  1  0  0  0\\n',\n",
       " ' 11  8  1  0  0  0\\n',\n",
       " ' 12  9  1  0  0  0\\n',\n",
       " ' 13  3  1  0  0  0\\n',\n",
       " ' 14 23  1  0  0  0\\n',\n",
       " ' 15 31  1  0  0  0\\n',\n",
       " ' 16  6  2  0  0  0\\n',\n",
       " ' 14 17  1  0  0  0\\n',\n",
       " ' 18  8  2  0  0  0\\n',\n",
       " ' 19 10  2  0  0  0\\n',\n",
       " ' 20  6  1  0  0  0\\n',\n",
       " ' 21 12  2  0  0  0\\n',\n",
       " ' 22 12  1  0  0  0\\n',\n",
       " ' 23 22  2  0  0  0\\n',\n",
       " ' 24 21  1  0  0  0\\n',\n",
       " ' 25 33  2  0  0  0\\n',\n",
       " ' 26 29  2  0  0  0\\n',\n",
       " ' 27 17  1  0  0  0\\n',\n",
       " ' 28 17  1  0  0  0\\n',\n",
       " ' 29 11  1  0  0  0\\n',\n",
       " ' 34 30  1  0  0  0\\n',\n",
       " ' 31 20  1  0  0  0\\n',\n",
       " ' 32 10  1  0  0  0\\n',\n",
       " ' 33 29  1  0  0  0\\n',\n",
       " ' 34 35  1  0  0  0\\n',\n",
       " ' 35 28  1  0  0  0\\n',\n",
       " ' 36 27  1  0  0  0\\n',\n",
       " ' 37 13  2  0  0  0\\n',\n",
       " ' 38 13  1  0  0  0\\n',\n",
       " ' 39 38  2  0  0  0\\n',\n",
       " ' 40 37  1  0  0  0\\n',\n",
       " ' 41 39  1  0  0  0\\n',\n",
       " '  4  3  1  0  0  0\\n',\n",
       " ' 41 40  2  0  0  0\\n',\n",
       " '  9  7  2  0  0  0\\n',\n",
       " ' 14 24  2  0  0  0\\n',\n",
       " ' 34 36  1  0  0  0\\n',\n",
       " '  5 42  1  0  0  0\\n',\n",
       " ' 11 43  1  0  0  0\\n',\n",
       " ' 15 44  1  0  0  0\\n',\n",
       " ' 15 45  1  0  0  0\\n',\n",
       " ' 17 46  1  0  0  0\\n',\n",
       " ' 20 47  1  0  0  0\\n',\n",
       " ' 21 48  1  0  0  0\\n',\n",
       " ' 22 49  1  0  0  0\\n',\n",
       " ' 23 50  1  0  0  0\\n',\n",
       " ' 24 51  1  0  0  0\\n',\n",
       " ' 25 52  1  0  0  0\\n',\n",
       " ' 26 53  1  0  0  0\\n',\n",
       " ' 27 54  1  0  0  0\\n',\n",
       " ' 27 55  1  0  0  0\\n',\n",
       " ' 28 56  1  0  0  0\\n',\n",
       " ' 28 57  1  0  0  0\\n',\n",
       " ' 30 58  1  0  0  0\\n',\n",
       " ' 30 59  1  0  0  0\\n',\n",
       " ' 31 60  1  0  0  0\\n',\n",
       " ' 31 61  1  0  0  0\\n',\n",
       " ' 32 62  1  0  0  0\\n',\n",
       " ' 33 63  1  0  0  0\\n',\n",
       " ' 34 64  1  0  0  0\\n',\n",
       " ' 35 65  1  0  0  0\\n',\n",
       " ' 35 66  1  0  0  0\\n',\n",
       " ' 36 67  1  0  0  0\\n',\n",
       " ' 36 68  1  0  0  0\\n',\n",
       " ' 37 69  1  0  0  0\\n',\n",
       " ' 38 70  1  0  0  0\\n',\n",
       " ' 39 71  1  0  0  0\\n',\n",
       " ' 40 72  1  0  0  0\\n',\n",
       " ' 41 73  1  0  0  0\\n',\n",
       " 'M  END\\n',\n",
       " '> <Clean Energy>\\n',\n",
       " '40.5706\\n',\n",
       " '\\n',\n",
       " '> <corp_id>\\n',\n",
       " '308499\\n',\n",
       " '\\n',\n",
       " '$$$$\\n']"
      ]
     },
     "execution_count": 28,
     "metadata": {},
     "output_type": "execute_result"
    }
   ],
   "source": [
    "targetCompound"
   ]
  },
  {
   "cell_type": "code",
   "execution_count": null,
   "metadata": {},
   "outputs": [],
   "source": []
  },
  {
   "cell_type": "code",
   "execution_count": 17,
   "metadata": {},
   "outputs": [
    {
     "data": {
      "text/plain": [
       "0"
      ]
     },
     "execution_count": 17,
     "metadata": {},
     "output_type": "execute_result"
    }
   ],
   "source": []
  },
  {
   "cell_type": "code",
   "execution_count": null,
   "metadata": {},
   "outputs": [],
   "source": []
  },
  {
   "cell_type": "code",
   "execution_count": null,
   "metadata": {},
   "outputs": [],
   "source": [
    "\n"
   ]
  },
  {
   "cell_type": "code",
   "execution_count": null,
   "metadata": {},
   "outputs": [],
   "source": []
  }
 ],
 "metadata": {
  "kernelspec": {
   "display_name": "Python 3",
   "language": "python",
   "name": "python3"
  },
  "language_info": {
   "codemirror_mode": {
    "name": "ipython",
    "version": 3
   },
   "file_extension": ".py",
   "mimetype": "text/x-python",
   "name": "python",
   "nbconvert_exporter": "python",
   "pygments_lexer": "ipython3",
   "version": "3.7.6"
  }
 },
 "nbformat": 4,
 "nbformat_minor": 4
}
